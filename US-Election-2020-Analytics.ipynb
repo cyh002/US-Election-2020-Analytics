{
 "cells": [
  {
   "cell_type": "markdown",
   "metadata": {},
   "source": [
    "# US Presidential Election 2020"
   ]
  },
  {
   "cell_type": "code",
   "execution_count": 1,
   "metadata": {},
   "outputs": [],
   "source": [
    "import sys\n",
    "import os"
   ]
  },
  {
   "cell_type": "code",
   "execution_count": 2,
   "metadata": {},
   "outputs": [],
   "source": [
    "sys.path.append(os.path.abspath('src'))"
   ]
  },
  {
   "cell_type": "code",
   "execution_count": 3,
   "metadata": {},
   "outputs": [],
   "source": [
    "from src import preprocessing, topic_modeling, deepseek, misc_utils"
   ]
  },
  {
   "cell_type": "code",
   "execution_count": 4,
   "metadata": {},
   "outputs": [],
   "source": [
    "# Define the configuration file path\n",
    "config_path = 'conf/config.yaml'"
   ]
  },
  {
   "cell_type": "code",
   "execution_count": null,
   "metadata": {},
   "outputs": [],
   "source": [
    "# Run the preprocessing pipeline - Takes very long ~30mins\n",
    "# print(\"Running preprocessing pipeline...\")\n",
    "# tweets_with_dups, tweets_no_dups = preprocessing.run_preprocessing_pipeline(config_path)"
   ]
  },
  {
   "cell_type": "code",
   "execution_count": 5,
   "metadata": {},
   "outputs": [
    {
     "name": "stdout",
     "output_type": "stream",
     "text": [
      "Loading dataset...\n",
      "Processing the CounterVectorizer and TfidfVectorizer\n",
      "Processing Biden dataset...\n",
      "Processing Trump dataset...\n",
      "Processing combine dataset with duplicates...\n",
      "Topic Modeling Preprocessing Complete!\n"
     ]
    }
   ],
   "source": [
    "dtm_results = topic_modeling.topic_preprocess(config_path)"
   ]
  },
  {
   "cell_type": "code",
   "execution_count": 7,
   "metadata": {},
   "outputs": [
    {
     "name": "stdout",
     "output_type": "stream",
     "text": [
      "dict_keys(['vectorizer', 'biden', 'trump', 'combine'])\n",
      "dict_keys(['count_dtm', 'tfidf_dtm'])\n",
      "dict_keys(['count_dtm', 'tfidf_dtm'])\n",
      "dict_keys(['count_dtm', 'tfidf_dtm'])\n"
     ]
    }
   ],
   "source": [
    "# @Anthony: Ways to get all the keys out!!!\n",
    "# Just need to sum all the values of each dtm to get the word count to create word cloud\n",
    "print(dtm_results.keys())\n",
    "print(dtm_results['biden'].keys())\n",
    "print(dtm_results['trump'].keys())\n",
    "print(dtm_results['combine'].keys())"
   ]
  }
 ],
 "metadata": {
  "kernelspec": {
   "display_name": "Python 3",
   "language": "python",
   "name": "python3"
  },
  "language_info": {
   "codemirror_mode": {
    "name": "ipython",
    "version": 3
   },
   "file_extension": ".py",
   "mimetype": "text/x-python",
   "name": "python",
   "nbconvert_exporter": "python",
   "pygments_lexer": "ipython3",
   "version": "3.10.0"
  }
 },
 "nbformat": 4,
 "nbformat_minor": 2
}
