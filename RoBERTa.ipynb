{
 "cells": [
  {
   "cell_type": "code",
   "execution_count": 1,
   "metadata": {},
   "outputs": [
    {
     "name": "stderr",
     "output_type": "stream",
     "text": [
      "c:\\Users\\danie\\Coding\\CSE6242_project\\project6242\\lib\\site-packages\\tqdm\\auto.py:21: TqdmWarning: IProgress not found. Please update jupyter and ipywidgets. See https://ipywidgets.readthedocs.io/en/stable/user_install.html\n",
      "  from .autonotebook import tqdm as notebook_tqdm\n"
     ]
    }
   ],
   "source": [
    "import pandas as pd\n",
    "import numpy as np\n",
    "import time\n",
    "from IPython.display import display\n",
    "\n",
    "import torch\n",
    "import sentencepiece\n",
    "import transformers\n",
    "from transformers import AutoTokenizer, AutoModelForSequenceClassification, AutoConfig\n",
    "from transformers import pipeline\n",
    "from huggingface_hub import notebook_login\n",
    "from scipy.special import softmax\n",
    "\n",
    "from sklearn.decomposition import LatentDirichletAllocation as LDA"
   ]
  },
  {
   "cell_type": "code",
   "execution_count": 2,
   "metadata": {},
   "outputs": [
    {
     "name": "stdout",
     "output_type": "stream",
     "text": [
      "PyTorch version: 2.4.1+cu124\n",
      "CUDA version supported by PyTorch: 12.4\n"
     ]
    }
   ],
   "source": [
    "print(\"PyTorch version:\", torch.__version__)\n",
    "print(\"CUDA version supported by PyTorch:\", torch.version.cuda)"
   ]
  },
  {
   "cell_type": "code",
   "execution_count": 3,
   "metadata": {},
   "outputs": [
    {
     "name": "stdout",
     "output_type": "stream",
     "text": [
      "Wed Nov 13 16:52:20 2024       \n",
      "+-----------------------------------------------------------------------------------------+\n",
      "| NVIDIA-SMI 560.94                 Driver Version: 560.94         CUDA Version: 12.6     |\n",
      "|-----------------------------------------+------------------------+----------------------+\n",
      "| GPU  Name                  Driver-Model | Bus-Id          Disp.A | Volatile Uncorr. ECC |\n",
      "| Fan  Temp   Perf          Pwr:Usage/Cap |           Memory-Usage | GPU-Util  Compute M. |\n",
      "|                                         |                        |               MIG M. |\n",
      "|=========================================+========================+======================|\n",
      "|   0  NVIDIA GeForce RTX 3070      WDDM  |   00000000:06:00.0  On |                  N/A |\n",
      "|  0%   43C    P8             17W /  220W |    1150MiB /   8192MiB |      0%      Default |\n",
      "|                                         |                        |                  N/A |\n",
      "+-----------------------------------------+------------------------+----------------------+\n",
      "                                                                                         \n",
      "+-----------------------------------------------------------------------------------------+\n",
      "| Processes:                                                                              |\n",
      "|  GPU   GI   CI        PID   Type   Process name                              GPU Memory |\n",
      "|        ID   ID                                                               Usage      |\n",
      "|=========================================================================================|\n",
      "|    0   N/A  N/A       712    C+G   ...Programs\\Microsoft VS Code\\Code.exe      N/A      |\n",
      "|    0   N/A  N/A      1488    C+G   ...les\\Microsoft OneDrive\\OneDrive.exe      N/A      |\n",
      "|    0   N/A  N/A      3660    C+G   ...GeForce Experience\\NVIDIA Share.exe      N/A      |\n",
      "|    0   N/A  N/A      4732    C+G   ...5n1h2txyewy\\ShellExperienceHost.exe      N/A      |\n",
      "|    0   N/A  N/A      7576    C+G   C:\\Windows\\explorer.exe                     N/A      |\n",
      "|    0   N/A  N/A      8596    C+G   ...nt.CBS_cw5n1h2txyewy\\SearchHost.exe      N/A      |\n",
      "|    0   N/A  N/A      8620    C+G   ...2txyewy\\StartMenuExperienceHost.exe      N/A      |\n",
      "|    0   N/A  N/A     10592    C+G   ...t.LockApp_cw5n1h2txyewy\\LockApp.exe      N/A      |\n",
      "|    0   N/A  N/A     11884    C+G   ...ekyb3d8bbwe\\PhoneExperienceHost.exe      N/A      |\n",
      "|    0   N/A  N/A     13328    C+G   ...CBS_cw5n1h2txyewy\\TextInputHost.exe      N/A      |\n",
      "|    0   N/A  N/A     14324    C+G   ...oogle\\Chrome\\Application\\chrome.exe      N/A      |\n",
      "|    0   N/A  N/A     14340    C+G   ...al\\Discord\\app-1.0.9169\\Discord.exe      N/A      |\n",
      "|    0   N/A  N/A     15084    C+G   ...cks-services\\BlueStacksServices.exe      N/A      |\n",
      "|    0   N/A  N/A     15684    C+G   ...\\cef\\cef.win7x64\\steamwebhelper.exe      N/A      |\n",
      "|    0   N/A  N/A     16420    C+G   ...crosoft\\Edge\\Application\\msedge.exe      N/A      |\n",
      "|    0   N/A  N/A     17720    C+G   ...gine\\app-4.0.383\\RazerAppEngine.exe      N/A      |\n",
      "|    0   N/A  N/A     18964    C+G   ...oogle\\Chrome\\Application\\chrome.exe      N/A      |\n",
      "|    0   N/A  N/A     19240    C+G   ...228_x64__8wekyb3d8bbwe\\ms-teams.exe      N/A      |\n",
      "|    0   N/A  N/A     19980    C+G   ...on\\130.0.2849.80\\msedgewebview2.exe      N/A      |\n",
      "|    0   N/A  N/A     23144    C+G   ...siveControlPanel\\SystemSettings.exe      N/A      |\n",
      "|    0   N/A  N/A     24600    C+G   ...on\\130.0.2849.80\\msedgewebview2.exe      N/A      |\n",
      "+-----------------------------------------------------------------------------------------+\n"
     ]
    }
   ],
   "source": [
    "!nvidia-smi"
   ]
  },
  {
   "cell_type": "code",
   "execution_count": 4,
   "metadata": {},
   "outputs": [
    {
     "name": "stdout",
     "output_type": "stream",
     "text": [
      "True\n"
     ]
    }
   ],
   "source": [
    "#Check if torch is available\n",
    "print(torch.cuda.is_available())"
   ]
  },
  {
   "cell_type": "code",
   "execution_count": 5,
   "metadata": {},
   "outputs": [],
   "source": [
    "#Get the model out\n",
    "MODEL = \"cardiffnlp/twitter-xlm-roberta-base-sentiment\"\n",
    "pipe = pipeline(\"text-classification\", model=MODEL, device =0)\n",
    "\n",
    "tokenizer = AutoTokenizer.from_pretrained(MODEL)\n",
    "config = AutoConfig.from_pretrained(MODEL)\n",
    "model = AutoModelForSequenceClassification.from_pretrained(MODEL).to(\"cuda\")"
   ]
  },
  {
   "cell_type": "code",
   "execution_count": 6,
   "metadata": {},
   "outputs": [],
   "source": [
    "device = torch.device('cuda' if torch.cuda.is_available() else 'cpu')"
   ]
  },
  {
   "cell_type": "code",
   "execution_count": 7,
   "metadata": {},
   "outputs": [],
   "source": [
    "#Download the english tweet directly\n",
    "english_tweets = pd.read_csv('data/english_tweets.csv', encoding = 'utf-8-sig')"
   ]
  },
  {
   "cell_type": "code",
   "execution_count": 8,
   "metadata": {},
   "outputs": [],
   "source": [
    "label_mapping = {\n",
    "    \"positive\": 1,\n",
    "    \"negative\": -1,\n",
    "    \"neutral\": 0\n",
    "}"
   ]
  },
  {
   "cell_type": "code",
   "execution_count": 9,
   "metadata": {},
   "outputs": [],
   "source": [
    "def get_highest_sentiment(text):\n",
    "    \"\"\"\n",
    "    Tokenizes the input text, computes sentiment scores using a model, and\n",
    "    returns the highest sentiment label with its corresponding score.\n",
    "\n",
    "    Args:\n",
    "        text (str): Input text for sentiment analysis.\n",
    "\n",
    "    Returns:\n",
    "        tuple: (highest_sentiment_value, highest_sentiment_score)\n",
    "               The sentiment label's integer value and its probability score.\n",
    "    \"\"\"\n",
    "    try:\n",
    "        encoded_input = tokenizer(text, return_tensors='pt', max_length=512, truncation=True).to(device)\n",
    "        output = model(**encoded_input)\n",
    "        scores = output[0][0].detach().cpu().numpy()\n",
    "        scores = softmax(scores)\n",
    "        max_index = int(np.argmax(scores))\n",
    "        highest_sentiment_value = int(label_mapping[config.id2label[max_index]])\n",
    "        highest_sentiment_score = float(scores[max_index])\n",
    "        return highest_sentiment_value, highest_sentiment_score\n",
    "    except Exception as e:\n",
    "        print(f\"Error processing text: {text} | Exception: {e}\")\n",
    "        return np.nan, np.nan"
   ]
  },
  {
   "cell_type": "code",
   "execution_count": 10,
   "metadata": {},
   "outputs": [
    {
     "name": "stderr",
     "output_type": "stream",
     "text": [
      "c:\\Users\\danie\\Coding\\CSE6242_project\\project6242\\lib\\site-packages\\transformers\\models\\xlm_roberta\\modeling_xlm_roberta.py:371: UserWarning: 1Torch was not compiled with flash attention. (Triggered internally at C:\\actions-runner\\_work\\pytorch\\pytorch\\builder\\windows\\pytorch\\aten\\src\\ATen\\native\\transformers\\cuda\\sdp_utils.cpp:555.)\n",
      "  attn_output = torch.nn.functional.scaled_dot_product_attention(\n"
     ]
    },
    {
     "name": "stdout",
     "output_type": "stream",
     "text": [
      "Time taken to process the first 1000 rows: 10.8627 seconds\n"
     ]
    }
   ],
   "source": [
    "# Check if 'sentiment' and 'confidence' column exists and remove it if it does\n",
    "if 'sentiment' in english_tweets.columns:\n",
    "    english_tweets.drop('sentiment', axis=1, inplace=True)\n",
    "\n",
    "if 'confidence' in english_tweets.columns:\n",
    "    english_tweets.drop('confidence', axis=1, inplace=True)\n",
    "\n",
    "# Start timing\n",
    "start_time = time.time()\n",
    "\n",
    "# Apply the function only on the first 100 rows\n",
    "test_results = english_tweets['clean_tweet'].iloc[:1000].apply(get_highest_sentiment)\n",
    "\n",
    "# Convert the result into a DataFrame with two columns (one for value, one for score)\n",
    "english_tweets[['sentiment', 'confidence']] = pd.DataFrame(test_results.tolist(), index=test_results.index)\n",
    "\n",
    "# End timing\n",
    "end_time = time.time()\n",
    "\n",
    "# Calculate the time taken\n",
    "execution_time = end_time - start_time\n",
    "\n",
    "# Print the result\n",
    "print(f\"Time taken to process the first 1000 rows: {execution_time:.4f} seconds\")"
   ]
  },
  {
   "cell_type": "code",
   "execution_count": 11,
   "metadata": {},
   "outputs": [
    {
     "name": "stdout",
     "output_type": "stream",
     "text": [
      "[-1.  0.  1.]\n",
      "0\n",
      "252563\n"
     ]
    }
   ],
   "source": [
    "#Check to make sure that the results are printed properly\n",
    "print(english_tweets.head(1000)['sentiment'].unique())\n",
    "print(english_tweets['clean_tweet'].isnull().sum())\n",
    "print(english_tweets['clean_tweet'].nunique())"
   ]
  },
  {
   "cell_type": "code",
   "execution_count": 12,
   "metadata": {},
   "outputs": [
    {
     "name": "stdout",
     "output_type": "stream",
     "text": [
      "<class 'pandas.core.frame.DataFrame'>\n",
      "RangeIndex: 252563 entries, 0 to 252562\n",
      "Data columns (total 30 columns):\n",
      " #   Column                Non-Null Count   Dtype  \n",
      "---  ------                --------------   -----  \n",
      " 0   created_at            252563 non-null  object \n",
      " 1   tweet_id              252563 non-null  float64\n",
      " 2   tweet                 252563 non-null  object \n",
      " 3   likes                 252563 non-null  int64  \n",
      " 4   retweet_count         252563 non-null  int64  \n",
      " 5   source                252547 non-null  object \n",
      " 6   user_id               252563 non-null  float64\n",
      " 7   user_name             252562 non-null  object \n",
      " 8   user_screen_name      252563 non-null  object \n",
      " 9   user_description      238194 non-null  object \n",
      " 10  user_join_date        252563 non-null  object \n",
      " 11  user_followers_count  252563 non-null  int64  \n",
      " 12  user_location         252563 non-null  object \n",
      " 13  lat                   252563 non-null  float64\n",
      " 14  long                  252563 non-null  float64\n",
      " 15  city                  143485 non-null  object \n",
      " 16  country               252563 non-null  object \n",
      " 17  continent             252563 non-null  object \n",
      " 18  state                 252563 non-null  object \n",
      " 19  state_code            252563 non-null  object \n",
      " 20  collected_at          252563 non-null  object \n",
      " 21  hashtag               252563 non-null  object \n",
      " 22  clean_tweet           252563 non-null  object \n",
      " 23  no_stopwords          252563 non-null  object \n",
      " 24  created_date          252563 non-null  object \n",
      " 25  created_time          252563 non-null  object \n",
      " 26  days_from_join_date   252563 non-null  int64  \n",
      " 27  user_id_post_count    252563 non-null  int64  \n",
      " 28  sentiment             1000 non-null    float64\n",
      " 29  confidence            1000 non-null    float64\n",
      "dtypes: float64(6), int64(5), object(19)\n",
      "memory usage: 57.8+ MB\n"
     ]
    }
   ],
   "source": [
    "english_tweets.info()"
   ]
  },
  {
   "cell_type": "code",
   "execution_count": 13,
   "metadata": {},
   "outputs": [],
   "source": [
    "# Check if 'sentiment' and 'confidence' column exists and remove it if it does\n",
    "if 'sentiment' in english_tweets.columns:\n",
    "    english_tweets.drop('sentiment', axis=1, inplace=True)\n",
    "\n",
    "if 'confidence' in english_tweets.columns:\n",
    "    english_tweets.drop('confidence', axis=1, inplace=True)\n",
    "\n",
    "results = english_tweets['clean_tweet'].apply(get_highest_sentiment)"
   ]
  },
  {
   "cell_type": "code",
   "execution_count": 14,
   "metadata": {},
   "outputs": [],
   "source": [
    "# Convert the result into a DataFrame with two columns (one for value, one for score)\n",
    "english_tweets[['sentiment', 'confidence']] = pd.DataFrame(results.tolist(), index=results.index)\n",
    "\n",
    "# Ensure 'sentiment' is stored as integer and 'confidence' as float\n",
    "english_tweets['sentiment'] = english_tweets['sentiment'].astype(int)\n",
    "english_tweets['confidence'] = english_tweets['confidence'].astype(float)"
   ]
  },
  {
   "cell_type": "code",
   "execution_count": 15,
   "metadata": {},
   "outputs": [
    {
     "name": "stdout",
     "output_type": "stream",
     "text": [
      "<class 'pandas.core.frame.DataFrame'>\n",
      "RangeIndex: 252563 entries, 0 to 252562\n",
      "Data columns (total 30 columns):\n",
      " #   Column                Non-Null Count   Dtype  \n",
      "---  ------                --------------   -----  \n",
      " 0   created_at            252563 non-null  object \n",
      " 1   tweet_id              252563 non-null  float64\n",
      " 2   tweet                 252563 non-null  object \n",
      " 3   likes                 252563 non-null  int64  \n",
      " 4   retweet_count         252563 non-null  int64  \n",
      " 5   source                252547 non-null  object \n",
      " 6   user_id               252563 non-null  float64\n",
      " 7   user_name             252562 non-null  object \n",
      " 8   user_screen_name      252563 non-null  object \n",
      " 9   user_description      238194 non-null  object \n",
      " 10  user_join_date        252563 non-null  object \n",
      " 11  user_followers_count  252563 non-null  int64  \n",
      " 12  user_location         252563 non-null  object \n",
      " 13  lat                   252563 non-null  float64\n",
      " 14  long                  252563 non-null  float64\n",
      " 15  city                  143485 non-null  object \n",
      " 16  country               252563 non-null  object \n",
      " 17  continent             252563 non-null  object \n",
      " 18  state                 252563 non-null  object \n",
      " 19  state_code            252563 non-null  object \n",
      " 20  collected_at          252563 non-null  object \n",
      " 21  hashtag               252563 non-null  object \n",
      " 22  clean_tweet           252563 non-null  object \n",
      " 23  no_stopwords          252563 non-null  object \n",
      " 24  created_date          252563 non-null  object \n",
      " 25  created_time          252563 non-null  object \n",
      " 26  days_from_join_date   252563 non-null  int64  \n",
      " 27  user_id_post_count    252563 non-null  int64  \n",
      " 28  sentiment             252563 non-null  int32  \n",
      " 29  confidence            252563 non-null  float64\n",
      "dtypes: float64(5), int32(1), int64(5), object(19)\n",
      "memory usage: 56.8+ MB\n"
     ]
    }
   ],
   "source": [
    "#Make sure that the column is there\n",
    "english_tweets.info()"
   ]
  },
  {
   "cell_type": "code",
   "execution_count": 16,
   "metadata": {},
   "outputs": [
    {
     "data": {
      "text/html": [
       "<div>\n",
       "<style scoped>\n",
       "    .dataframe tbody tr th:only-of-type {\n",
       "        vertical-align: middle;\n",
       "    }\n",
       "\n",
       "    .dataframe tbody tr th {\n",
       "        vertical-align: top;\n",
       "    }\n",
       "\n",
       "    .dataframe thead th {\n",
       "        text-align: right;\n",
       "    }\n",
       "</style>\n",
       "<table border=\"1\" class=\"dataframe\">\n",
       "  <thead>\n",
       "    <tr style=\"text-align: right;\">\n",
       "      <th></th>\n",
       "      <th>clean_tweet</th>\n",
       "      <th>sentiment</th>\n",
       "      <th>confidence</th>\n",
       "    </tr>\n",
       "  </thead>\n",
       "  <tbody>\n",
       "    <tr>\n",
       "      <th>0</th>\n",
       "      <td>#Trump: As a student I used to hear for years,...</td>\n",
       "      <td>-1</td>\n",
       "      <td>0.492327</td>\n",
       "    </tr>\n",
       "    <tr>\n",
       "      <th>1</th>\n",
       "      <td>You get a tie! And you get a tie! #Trump ‘s ra...</td>\n",
       "      <td>0</td>\n",
       "      <td>0.642429</td>\n",
       "    </tr>\n",
       "    <tr>\n",
       "      <th>2</th>\n",
       "      <td>@user Her 15 minutes were over long time ago. ...</td>\n",
       "      <td>-1</td>\n",
       "      <td>0.882416</td>\n",
       "    </tr>\n",
       "    <tr>\n",
       "      <th>3</th>\n",
       "      <td>@user @user @user There won’t be many of them....</td>\n",
       "      <td>-1</td>\n",
       "      <td>0.908475</td>\n",
       "    </tr>\n",
       "    <tr>\n",
       "      <th>4</th>\n",
       "      <td>One of the single most effective remedies to e...</td>\n",
       "      <td>1</td>\n",
       "      <td>0.501533</td>\n",
       "    </tr>\n",
       "    <tr>\n",
       "      <th>5</th>\n",
       "      <td>#Trump #PresidentTrump #Trump2020LandslideVict...</td>\n",
       "      <td>0</td>\n",
       "      <td>0.566660</td>\n",
       "    </tr>\n",
       "    <tr>\n",
       "      <th>6</th>\n",
       "      <td>@user #Trump owes #RicardoAguirre $730,000 to ...</td>\n",
       "      <td>-1</td>\n",
       "      <td>0.854710</td>\n",
       "    </tr>\n",
       "    <tr>\n",
       "      <th>7</th>\n",
       "      <td>#Trump: Nobody likes to tell you this, but som...</td>\n",
       "      <td>-1</td>\n",
       "      <td>0.605701</td>\n",
       "    </tr>\n",
       "    <tr>\n",
       "      <th>8</th>\n",
       "      <td>@user @user @user You right @user Censorship s...</td>\n",
       "      <td>-1</td>\n",
       "      <td>0.818584</td>\n",
       "    </tr>\n",
       "    <tr>\n",
       "      <th>9</th>\n",
       "      <td>@user @user Grab @user by the balls &amp;amp; chuc...</td>\n",
       "      <td>-1</td>\n",
       "      <td>0.735748</td>\n",
       "    </tr>\n",
       "  </tbody>\n",
       "</table>\n",
       "</div>"
      ],
      "text/plain": [
       "                                         clean_tweet  sentiment  confidence\n",
       "0  #Trump: As a student I used to hear for years,...         -1    0.492327\n",
       "1  You get a tie! And you get a tie! #Trump ‘s ra...          0    0.642429\n",
       "2  @user Her 15 minutes were over long time ago. ...         -1    0.882416\n",
       "3  @user @user @user There won’t be many of them....         -1    0.908475\n",
       "4  One of the single most effective remedies to e...          1    0.501533\n",
       "5  #Trump #PresidentTrump #Trump2020LandslideVict...          0    0.566660\n",
       "6  @user #Trump owes #RicardoAguirre $730,000 to ...         -1    0.854710\n",
       "7  #Trump: Nobody likes to tell you this, but som...         -1    0.605701\n",
       "8  @user @user @user You right @user Censorship s...         -1    0.818584\n",
       "9  @user @user Grab @user by the balls &amp; chuc...         -1    0.735748"
      ]
     },
     "metadata": {},
     "output_type": "display_data"
    }
   ],
   "source": [
    "# Display the updated DataFrame to check the new column\n",
    "display(english_tweets[['clean_tweet', 'sentiment', 'confidence']].head(10))"
   ]
  },
  {
   "cell_type": "code",
   "execution_count": 17,
   "metadata": {},
   "outputs": [
    {
     "name": "stdout",
     "output_type": "stream",
     "text": [
      "0\n",
      "hashtag\n",
      "trump    127989\n",
      "biden     99234\n",
      "both      25340\n",
      "Name: count, dtype: int64\n"
     ]
    }
   ],
   "source": [
    "print(english_tweets['clean_tweet'].isnull().sum())\n",
    "print(english_tweets['hashtag'].value_counts())"
   ]
  },
  {
   "cell_type": "code",
   "execution_count": 19,
   "metadata": {},
   "outputs": [],
   "source": [
    "#Save results\n",
    "english_tweets.to_csv('data/results_xlm.csv', index=False, encoding = 'utf-8-sig')"
   ]
  }
 ],
 "metadata": {
  "kernelspec": {
   "display_name": "project6242",
   "language": "python",
   "name": "python3"
  },
  "language_info": {
   "codemirror_mode": {
    "name": "ipython",
    "version": 3
   },
   "file_extension": ".py",
   "mimetype": "text/x-python",
   "name": "python",
   "nbconvert_exporter": "python",
   "pygments_lexer": "ipython3",
   "version": "3.10.0"
  }
 },
 "nbformat": 4,
 "nbformat_minor": 2
}
